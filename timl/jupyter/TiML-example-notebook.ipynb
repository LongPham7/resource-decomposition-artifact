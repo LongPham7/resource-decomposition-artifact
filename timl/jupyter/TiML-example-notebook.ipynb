{
 "cells": [
  {
   "cell_type": "code",
   "execution_count": null,
   "metadata": {},
   "outputs": [],
   "source": [
    "(* Ragged matrix, i.e. lists of lists *)\n",
    "\n",
    "structure RaggedMatrix = struct\n",
    "\n",
    "open List\n",
    "\n",
    "(* the first index is the length of the outer list; the second is the maximal length of the inner lists *)       \n",
    "datatype rmat 'a {m : Nat} : {Nat} =\n",
    "         Nil2 of rmat 'a {m} {0}\n",
    "       | Cons2 {n m' : Nat} {m' <= m} of list 'a {m'} * rmat 'a {m} {n} --> rmat 'a {m} {n+1}\n",
    "\n",
    "fun map ['a 'b] {m n : Nat} (f : forall {m : Nat}, list 'a {m} -- $(m*m) --> 'b) (l : rmat 'a {m} {n}) return list 'b {n} using $(m * m + 3) * $n =\n",
    "    case l of\n",
    "        Nil2 => []\n",
    "      | Cons2 (x, xs) => f x :: map @f xs\n",
    "\n",
    "end\n"
   ]
  }
 ],
 "metadata": {
  "kernelspec": {
   "display_name": "TiML",
   "language": "",
   "name": "timl"
  },
  "language_info": {
   "file_extension": ".timl",
   "mimetype": "text/plain",
   "name": "TiML"
  }
 },
 "nbformat": 4,
 "nbformat_minor": 2
}
